{
  "nbformat": 4,
  "nbformat_minor": 0,
  "metadata": {
    "colab": {
      "provenance": []
    },
    "kernelspec": {
      "name": "python3",
      "display_name": "Python 3"
    },
    "language_info": {
      "name": "python"
    }
  },
  "cells": [
    {
      "cell_type": "code",
      "execution_count": 1,
      "metadata": {
        "id": "5YuHE9jdGRkn",
        "colab": {
          "base_uri": "https://localhost:8080/"
        },
        "outputId": "dbb64aa8-597f-4ee4-e33c-932f88fca9fa"
      },
      "outputs": [
        {
          "output_type": "stream",
          "name": "stdout",
          "text": [
            "How many trips did you take today?12\n",
            "How many miles was trip #1 ?? 6\n",
            "How many miles was trip #2 ?? 3.1\n",
            "How many miles was trip #3 ?? 8.9\n",
            "How many miles was trip #4 ?? 1.8\n",
            "How many miles was trip #5 ?? 12\n",
            "How many miles was trip #6 ?? 21.7\n",
            "How many miles was trip #7 ?? 11.4\n",
            "How many miles was trip #8 ?? 6.6\n",
            "How many miles was trip #9 ?? 3.1\n",
            "How many miles was trip #10 ?? 17.4\n",
            "How many miles was trip #11 ?? 12.7\n",
            "How many miles was trip #12 ?? 2.9\n",
            "Your pay for today is $325.00\n"
          ]
        }
      ],
      "source": [
        "# Calculate day total for ACCESS route\n",
        "\n",
        "# A simple pay calculator to quickly calculate the\n",
        "# day's total for a taxi driver on an ACCESS route.\n",
        "\n",
        "# Asks the user for the total number of trips for the day\n",
        "# then calculates the total pay my milage.\n",
        "\n",
        "trips = int(input(\"How many trips did you take today?\"))\n",
        "pay = float(0)\n",
        "total = float(0)\n",
        "i = 1\n",
        "\n",
        "while trips > 0:\n",
        "\n",
        "    miles = float(input(f\"How many miles was trip #{i} ?? \"))\n",
        "    if miles == 0:\n",
        "        pay = 5\n",
        "    if miles > 0 and miles < 5:\n",
        "        pay = 15\n",
        "    if miles > 5.1 and miles < 10:\n",
        "        pay = 25\n",
        "    if miles > 10.1 and miles < 15:\n",
        "        pay = 35\n",
        "    if miles > 15.1 and miles < 20:\n",
        "        pay = 40\n",
        "    if miles > 20.1 and miles < 25:\n",
        "        pay = 45\n",
        "    if miles > 25.1 and miles < 30:\n",
        "        pay = 55\n",
        "    total = total + pay\n",
        "    i = i + 1\n",
        "    trips = trips - 1\n",
        "\n",
        "print(f\"Your pay for today is ${total:.2f}\")"
      ]
    },
    {
      "cell_type": "code",
      "source": [],
      "metadata": {
        "id": "zgk3tQDcpyk9"
      },
      "execution_count": null,
      "outputs": []
    }
  ]
}