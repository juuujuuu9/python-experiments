{
  "nbformat": 4,
  "nbformat_minor": 0,
  "metadata": {
    "colab": {
      "provenance": [],
      "authorship_tag": "ABX9TyPQhQ0+jAa41uC4EEtc9zPU",
      "include_colab_link": true
    },
    "kernelspec": {
      "name": "python3",
      "display_name": "Python 3"
    },
    "language_info": {
      "name": "python"
    }
  },
  "cells": [
    {
      "cell_type": "markdown",
      "metadata": {
        "id": "view-in-github",
        "colab_type": "text"
      },
      "source": [
        "<a href=\"https://colab.research.google.com/github/juuujuuu9/python-experiments/blob/main/Taxi_Pay_Calculator.ipynb\" target=\"_parent\"><img src=\"https://colab.research.google.com/assets/colab-badge.svg\" alt=\"Open In Colab\"/></a>"
      ]
    },
    {
      "cell_type": "code",
      "execution_count": null,
      "metadata": {
        "id": "5YuHE9jdGRkn",
        "colab": {
          "base_uri": "https://localhost:8080/"
        },
        "outputId": "c1172cbc-88a4-4dd8-f9e3-9119c3643a2d"
      },
      "outputs": [
        {
          "name": "stdout",
          "output_type": "stream",
          "text": [
            "How many trips in this route?    3\n",
            "How many miles was trip #1 ??     12\n",
            "How many miles was trip #2 ??     21\n",
            "How many miles was trip #3 ??     3\n",
            "\n",
            "Your pay for today is:     $95.00\n",
            "Thank you for using the ACCESS taxi pay calculator.\n",
            "\n",
            "Calculate again ?     (y/n).    y\n"
          ]
        }
      ],
      "source": [
        "# Calculate day total for ACCESS route\n",
        "\n",
        "# A simple pay calculator to quickly calculate the\n",
        "# day's total for a taxi driver on an ACCESS route.\n",
        "\n",
        "# Asks the user for the total number of trips for the day\n",
        "# then calculates the total pay my milage...\n",
        "\n",
        "def taxi_pay_calculator():\n",
        "  trips = int(input(\"How many trips in this route?    \"))\n",
        "  pay = float(0)\n",
        "  total = float(0)\n",
        "  i = 1\n",
        "\n",
        "  while trips > 0:\n",
        "\n",
        "      miles = float(input(f\"How many miles was trip #{i} ??     \"))\n",
        "      if miles == 0:\n",
        "          pay = 5\n",
        "      if miles > 0 and miles < 5:\n",
        "          pay = 15\n",
        "      if miles > 5.1 and miles < 10:\n",
        "          pay = 25\n",
        "      if miles > 10.1 and miles < 15:\n",
        "          pay = 35\n",
        "      if miles > 15.1 and miles < 20:\n",
        "          pay = 40\n",
        "      if miles > 20.1 and miles < 25:\n",
        "          pay = 45\n",
        "      if miles > 25.1 and miles < 30:\n",
        "          pay = 55\n",
        "      total = total + pay\n",
        "      i = i + 1\n",
        "      trips = trips - 1\n",
        "\n",
        "  print(f\"\\nYour pay for today is:     ${total:.2f}\")\n",
        "  print(\"Thank you for using the ACCESS taxi pay calculator.\")\n",
        "\n",
        "  redo = str(input(\"\\nCalculate again ?     (y/n).    \"))\n",
        "  if redo == \"y\":\n",
        "      trips = int(input(\"How many trips in this route?    \"))\n",
        "  else:\n",
        "      print(\"Goodbye !!\")\n",
        "      return\n",
        "\n",
        "\n",
        "taxi_pay_calculator();"
      ]
    },
    {
      "cell_type": "code",
      "source": [],
      "metadata": {
        "id": "zgk3tQDcpyk9"
      },
      "execution_count": null,
      "outputs": []
    }
  ]
}